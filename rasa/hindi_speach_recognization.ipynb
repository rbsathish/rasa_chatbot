{
 "cells": [
  {
   "cell_type": "code",
   "execution_count": 1,
   "metadata": {},
   "outputs": [
    {
     "name": "stdout",
     "output_type": "stream",
     "text": [
      "Speak : \n",
      "Time Up.\n",
      "Text: hello hello hello hello\n",
      "Text: hello hello hello hello\n"
     ]
    }
   ],
   "source": [
    "import pyaudio\n",
    "import speech_recognition as sr\n",
    "r = sr.Recognizer()\n",
    "with sr.Microphone() as source:\n",
    "    print (\"Speak : \")\n",
    "    audio = r.listen(source)\n",
    "    print(\"Time Up.\")\n",
    "    print(\"Text: \" + r.recognize_google(audio, language = 'En-IN'))\n",
    "# try:\n",
    "#     print(\"Text: \" + r.recognize_google(audio, language = 'En-IN'))\n",
    "    \n",
    "# except:\n",
    "#     pass;"
   ]
  },
  {
   "cell_type": "code",
   "execution_count": 6,
   "metadata": {},
   "outputs": [
    {
     "name": "stdout",
     "output_type": "stream",
     "text": [
      "Speak : \n",
      "Time Up.\n",
      "Text: गुड नाइट\n",
      "hindi None\n",
      "hi\n",
      "Translated(src=hi, dest=en, text=Good Night, pronunciation=None, extra_data=\"{'translat...\")\n"
     ]
    }
   ],
   "source": [
    "import pyaudio\n",
    "import speech_recognition as sr\n",
    "from translation import baidu, google, youdao, iciba\n",
    "from googletrans import Translator\n",
    "r = sr.Recognizer()\n",
    "with sr.Microphone() as source:\n",
    "    print (\"Speak : \")\n",
    "    audio = r.listen(source)\n",
    "    print(\"Time Up.\")\n",
    "    #print(\"Text: \" + r.recognize_google(audio, language = 'Hi-IN'))\n",
    "try:\n",
    "    text = print(\"Text: \" + r.recognize_google(audio, language = 'Hi-IN'))\n",
    "    print(\"hindi\",text)\n",
    "    translator = Translator()\n",
    "    print('hi')\n",
    "    english = print(translator.translate(r.recognize_google(audio, language = 'Hi-IN')))    \n",
    "except:\n",
    "    pass;"
   ]
  },
  {
   "cell_type": "code",
   "execution_count": null,
   "metadata": {},
   "outputs": [],
   "source": []
  }
 ],
 "metadata": {
  "kernelspec": {
   "display_name": "Python 3",
   "language": "python",
   "name": "python3"
  },
  "language_info": {
   "codemirror_mode": {
    "name": "ipython",
    "version": 3
   },
   "file_extension": ".py",
   "mimetype": "text/x-python",
   "name": "python",
   "nbconvert_exporter": "python",
   "pygments_lexer": "ipython3",
   "version": "3.6.8"
  }
 },
 "nbformat": 4,
 "nbformat_minor": 2
}
