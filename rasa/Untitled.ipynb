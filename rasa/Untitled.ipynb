{
 "cells": [
  {
   "cell_type": "code",
   "execution_count": 1,
   "metadata": {},
   "outputs": [],
   "source": [
    "import pandas as pd"
   ]
  },
  {
   "cell_type": "code",
   "execution_count": 44,
   "metadata": {},
   "outputs": [
    {
     "data": {
      "text/html": [
       "<div>\n",
       "<style scoped>\n",
       "    .dataframe tbody tr th:only-of-type {\n",
       "        vertical-align: middle;\n",
       "    }\n",
       "\n",
       "    .dataframe tbody tr th {\n",
       "        vertical-align: top;\n",
       "    }\n",
       "\n",
       "    .dataframe thead th {\n",
       "        text-align: right;\n",
       "    }\n",
       "</style>\n",
       "<table border=\"1\" class=\"dataframe\">\n",
       "  <thead>\n",
       "    <tr style=\"text-align: right;\">\n",
       "      <th></th>\n",
       "      <th>Carrot Halwa</th>\n",
       "      <th>Double Ka Meeta</th>\n",
       "      <th>Gulab Jamun</th>\n",
       "      <th>Qubani Ka Meeta</th>\n",
       "      <th>Ras Malai</th>\n",
       "    </tr>\n",
       "  </thead>\n",
       "  <tbody>\n",
       "    <tr>\n",
       "      <th>0</th>\n",
       "      <td>Carrot Halwa,\"Carrot Halwa\",\"Carrot halwa\",\"ca...</td>\n",
       "      <td>NaN</td>\n",
       "      <td>NaN</td>\n",
       "      <td>NaN</td>\n",
       "      <td>NaN</td>\n",
       "    </tr>\n",
       "    <tr>\n",
       "      <th>1</th>\n",
       "      <td>Double Ka Meeta,\"Double Ka Meeta\",\"Double Ka m...</td>\n",
       "      <td>NaN</td>\n",
       "      <td>NaN</td>\n",
       "      <td>NaN</td>\n",
       "      <td>NaN</td>\n",
       "    </tr>\n",
       "    <tr>\n",
       "      <th>2</th>\n",
       "      <td>Gulab Jamun,\"Globe German\",\"Glock German\",\"Gul...</td>\n",
       "      <td>NaN</td>\n",
       "      <td>NaN</td>\n",
       "      <td>NaN</td>\n",
       "      <td>NaN</td>\n",
       "    </tr>\n",
       "    <tr>\n",
       "      <th>3</th>\n",
       "      <td>Qubani Ka Meeta,\"Qubani Ka Meeta\",\"Qubani ka m...</td>\n",
       "      <td>NaN</td>\n",
       "      <td>NaN</td>\n",
       "      <td>NaN</td>\n",
       "      <td>NaN</td>\n",
       "    </tr>\n",
       "    <tr>\n",
       "      <th>4</th>\n",
       "      <td>Ras Malai,\"Ras Malai\",\"Ras malai\",\"Rasmalai\",\"...</td>\n",
       "      <td>NaN</td>\n",
       "      <td>NaN</td>\n",
       "      <td>NaN</td>\n",
       "      <td>NaN</td>\n",
       "    </tr>\n",
       "  </tbody>\n",
       "</table>\n",
       "</div>"
      ],
      "text/plain": [
       "                                        Carrot Halwa  Double Ka Meeta  \\\n",
       "0  Carrot Halwa,\"Carrot Halwa\",\"Carrot halwa\",\"ca...              NaN   \n",
       "1  Double Ka Meeta,\"Double Ka Meeta\",\"Double Ka m...              NaN   \n",
       "2  Gulab Jamun,\"Globe German\",\"Glock German\",\"Gul...              NaN   \n",
       "3  Qubani Ka Meeta,\"Qubani Ka Meeta\",\"Qubani ka m...              NaN   \n",
       "4  Ras Malai,\"Ras Malai\",\"Ras malai\",\"Rasmalai\",\"...              NaN   \n",
       "\n",
       "   Gulab Jamun  Qubani Ka Meeta  Ras Malai  \n",
       "0          NaN              NaN        NaN  \n",
       "1          NaN              NaN        NaN  \n",
       "2          NaN              NaN        NaN  \n",
       "3          NaN              NaN        NaN  \n",
       "4          NaN              NaN        NaN  "
      ]
     },
     "execution_count": 44,
     "metadata": {},
     "output_type": "execute_result"
    }
   ],
   "source": [
    "df = pd.read_csv(\"C:\\\\Users\\\\Dell\\\\Desktop\\\\rasa\\\\dataset_fida\\\\Entities\\\\desserts.csv\",sep=';',names=['Carrot Halwa', 'Double Ka Meeta', 'Gulab Jamun','Qubani Ka Meeta','Ras Malai'])\n",
    "df"
   ]
  },
  {
   "cell_type": "code",
   "execution_count": 50,
   "metadata": {},
   "outputs": [
    {
     "data": {
      "text/html": [
       "<div>\n",
       "<style scoped>\n",
       "    .dataframe tbody tr th:only-of-type {\n",
       "        vertical-align: middle;\n",
       "    }\n",
       "\n",
       "    .dataframe tbody tr th {\n",
       "        vertical-align: top;\n",
       "    }\n",
       "\n",
       "    .dataframe thead th {\n",
       "        text-align: right;\n",
       "    }\n",
       "</style>\n",
       "<table border=\"1\" class=\"dataframe\">\n",
       "  <thead>\n",
       "    <tr style=\"text-align: right;\">\n",
       "      <th></th>\n",
       "      <th>Carrot Halwa</th>\n",
       "      <th>Double Ka Meeta</th>\n",
       "      <th>Gulab Jamun</th>\n",
       "      <th>Qubani Ka Meeta</th>\n",
       "      <th>Ras Malai</th>\n",
       "    </tr>\n",
       "  </thead>\n",
       "  <tbody>\n",
       "    <tr>\n",
       "      <th>0</th>\n",
       "      <td>Carrot Halwa,\"Carrot Halwa\",\"Carrot halwa\",\"ca...</td>\n",
       "      <td>NaN</td>\n",
       "      <td>NaN</td>\n",
       "      <td>NaN</td>\n",
       "      <td>NaN</td>\n",
       "    </tr>\n",
       "    <tr>\n",
       "      <th>1</th>\n",
       "      <td>Double Ka Meeta,\"Double Ka Meeta\",\"Double Ka m...</td>\n",
       "      <td>NaN</td>\n",
       "      <td>NaN</td>\n",
       "      <td>NaN</td>\n",
       "      <td>NaN</td>\n",
       "    </tr>\n",
       "    <tr>\n",
       "      <th>2</th>\n",
       "      <td>Gulab Jamun,\"Globe German\",\"Glock German\",\"Gul...</td>\n",
       "      <td>NaN</td>\n",
       "      <td>NaN</td>\n",
       "      <td>NaN</td>\n",
       "      <td>NaN</td>\n",
       "    </tr>\n",
       "    <tr>\n",
       "      <th>3</th>\n",
       "      <td>Qubani Ka Meeta,\"Qubani Ka Meeta\",\"Qubani ka m...</td>\n",
       "      <td>NaN</td>\n",
       "      <td>NaN</td>\n",
       "      <td>NaN</td>\n",
       "      <td>NaN</td>\n",
       "    </tr>\n",
       "    <tr>\n",
       "      <th>4</th>\n",
       "      <td>Ras Malai,\"Ras Malai\",\"Ras malai\",\"Rasmalai\",\"...</td>\n",
       "      <td>NaN</td>\n",
       "      <td>NaN</td>\n",
       "      <td>NaN</td>\n",
       "      <td>NaN</td>\n",
       "    </tr>\n",
       "  </tbody>\n",
       "</table>\n",
       "</div>"
      ],
      "text/plain": [
       "                                        Carrot Halwa  Double Ka Meeta  \\\n",
       "0  Carrot Halwa,\"Carrot Halwa\",\"Carrot halwa\",\"ca...              NaN   \n",
       "1  Double Ka Meeta,\"Double Ka Meeta\",\"Double Ka m...              NaN   \n",
       "2  Gulab Jamun,\"Globe German\",\"Glock German\",\"Gul...              NaN   \n",
       "3  Qubani Ka Meeta,\"Qubani Ka Meeta\",\"Qubani ka m...              NaN   \n",
       "4  Ras Malai,\"Ras Malai\",\"Ras malai\",\"Rasmalai\",\"...              NaN   \n",
       "\n",
       "   Gulab Jamun  Qubani Ka Meeta  Ras Malai  \n",
       "0          NaN              NaN        NaN  \n",
       "1          NaN              NaN        NaN  \n",
       "2          NaN              NaN        NaN  \n",
       "3          NaN              NaN        NaN  \n",
       "4          NaN              NaN        NaN  "
      ]
     },
     "execution_count": 50,
     "metadata": {},
     "output_type": "execute_result"
    }
   ],
   "source": [
    "df = pd.read_csv(\"C:\\\\Users\\\\Dell\\\\Desktop\\\\rasa\\\\dataset_fida\\\\Entities\\\\desserts.csv\",names=['Carrot Halwa', 'Double Ka Meeta', 'Gulab Jamun','Qubani Ka Meeta','Ras Malai'])\n",
    "df"
   ]
  },
  {
   "cell_type": "code",
   "execution_count": 71,
   "metadata": {},
   "outputs": [
    {
     "data": {
      "text/html": [
       "<div>\n",
       "<style scoped>\n",
       "    .dataframe tbody tr th:only-of-type {\n",
       "        vertical-align: middle;\n",
       "    }\n",
       "\n",
       "    .dataframe tbody tr th {\n",
       "        vertical-align: top;\n",
       "    }\n",
       "\n",
       "    .dataframe thead th {\n",
       "        text-align: right;\n",
       "    }\n",
       "</style>\n",
       "<table border=\"1\" class=\"dataframe\">\n",
       "  <thead>\n",
       "    <tr style=\"text-align: right;\">\n",
       "      <th></th>\n",
       "      <th>0</th>\n",
       "    </tr>\n",
       "  </thead>\n",
       "  <tbody>\n",
       "    <tr>\n",
       "      <th>0</th>\n",
       "      <td>Carrot Halwa,\"Carrot Halwa\",\"Carrot halwa\",\"ca...</td>\n",
       "    </tr>\n",
       "    <tr>\n",
       "      <th>1</th>\n",
       "      <td>Double Ka Meeta,\"Double Ka Meeta\",\"Double Ka m...</td>\n",
       "    </tr>\n",
       "    <tr>\n",
       "      <th>2</th>\n",
       "      <td>Gulab Jamun,\"Globe German\",\"Glock German\",\"Gul...</td>\n",
       "    </tr>\n",
       "    <tr>\n",
       "      <th>3</th>\n",
       "      <td>Qubani Ka Meeta,\"Qubani Ka Meeta\",\"Qubani ka m...</td>\n",
       "    </tr>\n",
       "    <tr>\n",
       "      <th>4</th>\n",
       "      <td>Ras Malai,\"Ras Malai\",\"Ras malai\",\"Rasmalai\",\"...</td>\n",
       "    </tr>\n",
       "  </tbody>\n",
       "</table>\n",
       "</div>"
      ],
      "text/plain": [
       "                                                   0\n",
       "0  Carrot Halwa,\"Carrot Halwa\",\"Carrot halwa\",\"ca...\n",
       "1  Double Ka Meeta,\"Double Ka Meeta\",\"Double Ka m...\n",
       "2  Gulab Jamun,\"Globe German\",\"Glock German\",\"Gul...\n",
       "3  Qubani Ka Meeta,\"Qubani Ka Meeta\",\"Qubani ka m...\n",
       "4  Ras Malai,\"Ras Malai\",\"Ras malai\",\"Rasmalai\",\"..."
      ]
     },
     "execution_count": 71,
     "metadata": {},
     "output_type": "execute_result"
    }
   ],
   "source": [
    "df = pd.read_csv(\"C:\\\\Users\\\\Dell\\\\Desktop\\\\rasa\\\\dataset_fida\\\\Entities\\\\desserts.csv\",sep=\";\",header=None)\n",
    "df"
   ]
  },
  {
   "cell_type": "code",
   "execution_count": 73,
   "metadata": {},
   "outputs": [
    {
     "data": {
      "text/html": [
       "<div>\n",
       "<style scoped>\n",
       "    .dataframe tbody tr th:only-of-type {\n",
       "        vertical-align: middle;\n",
       "    }\n",
       "\n",
       "    .dataframe tbody tr th {\n",
       "        vertical-align: top;\n",
       "    }\n",
       "\n",
       "    .dataframe thead th {\n",
       "        text-align: right;\n",
       "    }\n",
       "</style>\n",
       "<table border=\"1\" class=\"dataframe\">\n",
       "  <thead>\n",
       "    <tr style=\"text-align: right;\">\n",
       "      <th></th>\n",
       "      <th>0</th>\n",
       "      <th>1</th>\n",
       "      <th>2</th>\n",
       "      <th>3</th>\n",
       "      <th>4</th>\n",
       "    </tr>\n",
       "  </thead>\n",
       "  <tbody>\n",
       "    <tr>\n",
       "      <th>0</th>\n",
       "      <td>Carrot Halwa,\"Carrot Halwa\",\"Carrot halwa\",\"ca...</td>\n",
       "      <td>Double Ka Meeta,\"Double Ka Meeta\",\"Double Ka m...</td>\n",
       "      <td>Gulab Jamun,\"Globe German\",\"Glock German\",\"Gul...</td>\n",
       "      <td>Qubani Ka Meeta,\"Qubani Ka Meeta\",\"Qubani ka m...</td>\n",
       "      <td>Ras Malai,\"Ras Malai\",\"Ras malai\",\"Rasmalai\",\"...</td>\n",
       "    </tr>\n",
       "  </tbody>\n",
       "</table>\n",
       "</div>"
      ],
      "text/plain": [
       "                                                   0  \\\n",
       "0  Carrot Halwa,\"Carrot Halwa\",\"Carrot halwa\",\"ca...   \n",
       "\n",
       "                                                   1  \\\n",
       "0  Double Ka Meeta,\"Double Ka Meeta\",\"Double Ka m...   \n",
       "\n",
       "                                                   2  \\\n",
       "0  Gulab Jamun,\"Globe German\",\"Glock German\",\"Gul...   \n",
       "\n",
       "                                                   3  \\\n",
       "0  Qubani Ka Meeta,\"Qubani Ka Meeta\",\"Qubani ka m...   \n",
       "\n",
       "                                                   4  \n",
       "0  Ras Malai,\"Ras Malai\",\"Ras malai\",\"Rasmalai\",\"...  "
      ]
     },
     "execution_count": 73,
     "metadata": {},
     "output_type": "execute_result"
    }
   ],
   "source": [
    "df.transpose()\n",
    "# df.set_index(['Carrot Halwa', 'Double Ka Meeta', 'Gulab Jamun','Qubani Ka Meeta','Ras Malai'])"
   ]
  },
  {
   "cell_type": "code",
   "execution_count": 75,
   "metadata": {},
   "outputs": [
    {
     "data": {
      "text/plain": [
       "['Carrot Halwa',\n",
       " 'Double Ka Meeta',\n",
       " 'Gulab Jamun',\n",
       " 'Qubani Ka Meeta',\n",
       " 'Ras Malai']"
      ]
     },
     "execution_count": 75,
     "metadata": {},
     "output_type": "execute_result"
    }
   ],
   "source": [
    "(['Carrot Halwa', 'Double Ka Meeta', 'Gulab Jamun','Qubani Ka Meeta','Ras Malai'])"
   ]
  },
  {
   "cell_type": "code",
   "execution_count": 81,
   "metadata": {},
   "outputs": [
    {
     "ename": "AttributeError",
     "evalue": "'DataFrame' object has no attribute 'columnsIndex'",
     "output_type": "error",
     "traceback": [
      "\u001b[1;31m---------------------------------------------------------------------------\u001b[0m",
      "\u001b[1;31mAttributeError\u001b[0m                            Traceback (most recent call last)",
      "\u001b[1;32m<ipython-input-81-c93960b03294>\u001b[0m in \u001b[0;36m<module>\u001b[1;34m\u001b[0m\n\u001b[1;32m----> 1\u001b[1;33m \u001b[0mdf\u001b[0m\u001b[1;33m.\u001b[0m\u001b[0mcolumnsIndex\u001b[0m\u001b[1;33m(\u001b[0m\u001b[1;33m[\u001b[0m\u001b[1;34m'Carrot Halwa'\u001b[0m\u001b[1;33m,\u001b[0m \u001b[1;34m'Double Ka Meeta'\u001b[0m\u001b[1;33m,\u001b[0m \u001b[1;34m'Gulab Jamun'\u001b[0m\u001b[1;33m,\u001b[0m\u001b[1;34m'Qubani Ka Meeta'\u001b[0m\u001b[1;33m,\u001b[0m\u001b[1;34m'Ras Malai'\u001b[0m\u001b[1;33m]\u001b[0m\u001b[1;33m)\u001b[0m\u001b[1;33m\u001b[0m\u001b[1;33m\u001b[0m\u001b[0m\n\u001b[0m",
      "\u001b[1;32mc:\\python3\\lib\\site-packages\\pandas\\core\\generic.py\u001b[0m in \u001b[0;36m__getattr__\u001b[1;34m(self, name)\u001b[0m\n\u001b[0;32m   5178\u001b[0m             \u001b[1;32mif\u001b[0m \u001b[0mself\u001b[0m\u001b[1;33m.\u001b[0m\u001b[0m_info_axis\u001b[0m\u001b[1;33m.\u001b[0m\u001b[0m_can_hold_identifiers_and_holds_name\u001b[0m\u001b[1;33m(\u001b[0m\u001b[0mname\u001b[0m\u001b[1;33m)\u001b[0m\u001b[1;33m:\u001b[0m\u001b[1;33m\u001b[0m\u001b[1;33m\u001b[0m\u001b[0m\n\u001b[0;32m   5179\u001b[0m                 \u001b[1;32mreturn\u001b[0m \u001b[0mself\u001b[0m\u001b[1;33m[\u001b[0m\u001b[0mname\u001b[0m\u001b[1;33m]\u001b[0m\u001b[1;33m\u001b[0m\u001b[1;33m\u001b[0m\u001b[0m\n\u001b[1;32m-> 5180\u001b[1;33m             \u001b[1;32mreturn\u001b[0m \u001b[0mobject\u001b[0m\u001b[1;33m.\u001b[0m\u001b[0m__getattribute__\u001b[0m\u001b[1;33m(\u001b[0m\u001b[0mself\u001b[0m\u001b[1;33m,\u001b[0m \u001b[0mname\u001b[0m\u001b[1;33m)\u001b[0m\u001b[1;33m\u001b[0m\u001b[1;33m\u001b[0m\u001b[0m\n\u001b[0m\u001b[0;32m   5181\u001b[0m \u001b[1;33m\u001b[0m\u001b[0m\n\u001b[0;32m   5182\u001b[0m     \u001b[1;32mdef\u001b[0m \u001b[0m__setattr__\u001b[0m\u001b[1;33m(\u001b[0m\u001b[0mself\u001b[0m\u001b[1;33m,\u001b[0m \u001b[0mname\u001b[0m\u001b[1;33m,\u001b[0m \u001b[0mvalue\u001b[0m\u001b[1;33m)\u001b[0m\u001b[1;33m:\u001b[0m\u001b[1;33m\u001b[0m\u001b[1;33m\u001b[0m\u001b[0m\n",
      "\u001b[1;31mAttributeError\u001b[0m: 'DataFrame' object has no attribute 'columnsIndex'"
     ]
    }
   ],
   "source": [
    "df.columnsIndex(['Carrot Halwa', 'Double Ka Meeta', 'Gulab Jamun','Qubani Ka Meeta','Ras Malai'])"
   ]
  },
  {
   "cell_type": "code",
   "execution_count": null,
   "metadata": {},
   "outputs": [],
   "source": []
  }
 ],
 "metadata": {
  "kernelspec": {
   "display_name": "Python 3",
   "language": "python",
   "name": "python3"
  },
  "language_info": {
   "codemirror_mode": {
    "name": "ipython",
    "version": 3
   },
   "file_extension": ".py",
   "mimetype": "text/x-python",
   "name": "python",
   "nbconvert_exporter": "python",
   "pygments_lexer": "ipython3",
   "version": "3.6.8"
  }
 },
 "nbformat": 4,
 "nbformat_minor": 2
}
